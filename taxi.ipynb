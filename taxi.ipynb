{
 "cells": [
  {
   "cell_type": "markdown",
   "metadata": {},
   "source": [
    "# NYC Green Taxi Analysis"
   ]
  },
  {
   "cell_type": "markdown",
   "metadata": {},
   "source": [
    "This is a detailed notebook with code and step-by-step analysis for the NYC Green Taxi Analysis. This notebook mainly has five sections corresponding to the five questions for this project. Emphasis or important terms are bolded."
   ]
  },
  {
   "cell_type": "markdown",
   "metadata": {},
   "source": [
    "## Import Packages"
   ]
  },
  {
   "cell_type": "code",
   "execution_count": 1,
   "metadata": {
    "collapsed": true
   },
   "outputs": [],
   "source": [
    "import os\n",
    "# import requests \n",
    "import numpy as np\n",
    "import pandas as pd\n",
    "import matplotlib.pyplot as plt # for data visualization\n",
    "# from mpl_toolkits.basemap import Basemap\n",
    "# import gmplot\n",
    "# import googlemaps\n",
    "import seaborn as sns\n",
    "import datetime as dt\n",
    "# from geopy.distance import geodesic # for getting distance from lat and long\n",
    "%matplotlib inline\n",
    "from sklearn.model_selection import train_test_split,KFold,GridSearchCV\n",
    "from sklearn.ensemble import RandomForestRegressor\n",
    "from sklearn.metrics import mean_squared_error\n",
    "from scipy import stats"
   ]
  },
  {
   "cell_type": "markdown",
   "metadata": {},
   "source": [
    "Before diving into the problems, let's look at some varible meanings, which is helpful for further analysis. The reference can be found through the link https://www1.nyc.gov/assets/tlc/downloads/pdf/data_dictionary_trip_records_green.pdf. We will look at features related to airports in question 3 and those related to fees in the Question 4 section.  \n",
    "**VendorID**: A code indicating the LPEP provider that provided the record.  \n",
    "1= Creative Mobile Technologies, LLC; 2= VeriFone Inc   \n",
    "**Store_and_fwd_flag**: This flag indicates whether the trip record was held in vehicle memory before sending to the vendor, aka “store and forward,” because the vehicle did not have a connection to the server.  \n",
    "Y= store and forward trip  \n",
    "N= not a store and forward trip  \n",
    "**Payment Type**: A numeric code signifying how the passenger paid for the trip.  \n",
    "1= Credit card  2= Cash  3= No charge  \n",
    "4= Dispute  5= Unknown  6= Voided trip   \n",
    "**Trip_type**: A code indicating whether the trip was a street-hail or a dispatchthat is automatically assigned based on the metered rate in use but can be altered by the driver.  \n",
    "1= Street-hail   2= Dispatch"
   ]
  },
  {
   "cell_type": "markdown",
   "metadata": {},
   "source": [
    "## Question One"
   ]
  },
  {
   "cell_type": "markdown",
   "metadata": {},
   "source": [
    "### 1.1 downloading/loading data"
   ]
  },
  {
   "cell_type": "code",
   "execution_count": 3,
   "metadata": {},
   "outputs": [],
   "source": [
    "if os.path.exists('../green_tripdata_2015-09.csv'): # Load data if the dataset is downloaded \n",
    "    data = pd.read_csv('../green_tripdata_2015-09.csv')\n",
    "else: # Download dataset otherwise\n",
    "    url = \"https://s3.amazonaws.com/nyc-tlc/trip+data/green_tripdata_2015-09.csv\"\n",
    "    data = pd.read_csv(url)\n",
    "    data.to_csv('green_tripdata_2015-09.csv',index=False)"
   ]
  },
  {
   "cell_type": "markdown",
   "metadata": {},
   "source": [
    "### 1.2 number of rows/columns"
   ]
  },
  {
   "cell_type": "code",
   "execution_count": 4,
   "metadata": {},
   "outputs": [
    {
     "name": "stdout",
     "output_type": "stream",
     "text": [
      "Number of rows: 1494926\n",
      "Number of columns: 21\n"
     ]
    }
   ],
   "source": [
    "print('Number of rows: %s'%data.shape[0])\n",
    "print('Number of columns: %s'%data.shape[1])"
   ]
  },
  {
   "cell_type": "code",
   "execution_count": 4,
   "metadata": {},
   "outputs": [
    {
     "data": {
      "text/plain": [
       "Index(['VendorID', 'lpep_pickup_datetime', 'Lpep_dropoff_datetime',\n",
       "       'Store_and_fwd_flag', 'RateCodeID', 'Pickup_longitude',\n",
       "       'Pickup_latitude', 'Dropoff_longitude', 'Dropoff_latitude',\n",
       "       'Passenger_count', 'Trip_distance', 'Fare_amount', 'Extra', 'MTA_tax',\n",
       "       'Tip_amount', 'Tolls_amount', 'Ehail_fee', 'improvement_surcharge',\n",
       "       'Total_amount', 'Payment_type', 'Trip_type '],\n",
       "      dtype='object')"
      ]
     },
     "execution_count": 4,
     "metadata": {},
     "output_type": "execute_result"
    }
   ],
   "source": [
    "data.columns"
   ]
  },
  {
   "cell_type": "markdown",
   "metadata": {},
   "source": [
    "## Question Two: Trip Distance"
   ]
  },
  {
   "cell_type": "markdown",
   "metadata": {},
   "source": [
    "We will breifly look at some summary statistics before plotting the histogram. Some values are extreme and they may be outliers. The distance variable seems **asymmetrically** distributed and a histogram plot of cleaned data should be displayed except from one with all data. "
   ]
  },
  {
   "cell_type": "code",
   "execution_count": 5,
   "metadata": {},
   "outputs": [
    {
     "data": {
      "text/plain": [
       "count    1.494926e+06\n",
       "mean     2.968141e+00\n",
       "std      3.076621e+00\n",
       "min      0.000000e+00\n",
       "5%       4.800000e-01\n",
       "25%      1.100000e+00\n",
       "45%      1.750000e+00\n",
       "50%      1.980000e+00\n",
       "65.0%    2.870000e+00\n",
       "85.0%    5.270000e+00\n",
       "max      6.031000e+02\n",
       "Name: Trip_distance, dtype: float64"
      ]
     },
     "execution_count": 5,
     "metadata": {},
     "output_type": "execute_result"
    }
   ],
   "source": [
    "data['Trip_distance'].describe(percentiles = np.arange(0.05,1,0.2))"
   ]
  },
  {
   "cell_type": "code",
   "execution_count": 5,
   "metadata": {},
   "outputs": [
    {
     "data": {
      "image/png": "[encoded data removed]",
      "text/plain": [
       "<Figure size 432x288 with 1 Axes>"
      ]
     },
     "metadata": {},
     "output_type": "display_data"
    }
   ],
   "source": [
    "# histogram of trip distance\n",
    "# use log of count to see the distribution\n",
    "plt.hist(data['Trip_distance'],bins = 30,facecolor = 'blue',alpha =0.5)\n",
    "plt.xlabel('Trip Distance')\n",
    "plt.ylabel('Count')\n",
    "plt.yscale('log')\n",
    "plt.title('Histogram of Trip Distance')\n",
    "plt.savefig('Trip_distance.jpeg',format='jpeg')\n",
    "plt.show()"
   ]
  },
  {
   "cell_type": "markdown",
   "metadata": {},
   "source": [
    "Then I removed the potential outliers. The potential outliers are measured as the absolute value of difference between mean is greater than 3\\*std, which is **abs(x-mean)/std>3** according to **Chauvenet's criterion** to remove outliers from the Trip distance data. The distribution looks clear without those values. "
   ]
  },
  {
   "cell_type": "code",
   "execution_count": 7,
   "metadata": {},
   "outputs": [
    {
     "data": {
      "image/png": "[encoded data removed]",
      "text/plain": [
       "<Figure size 432x288 with 1 Axes>"
      ]
     },
     "metadata": {},
     "output_type": "display_data"
    }
   ],
   "source": [
    "distance = data['Trip_distance']\n",
    "clean_distance = distance[~((distance-distance.mean()).abs()>distance.std()*3)]\n",
    "plt.hist(clean_distance,bins = 30,facecolor = 'blue',alpha =0.5)\n",
    "# clean_distance.hist(bins=30)\n",
    "plt.axvline(clean_distance.mean(),color = 'red',linestyle = '--')\n",
    "plt.axvline(clean_distance.median(),color = 'green',linestyle = '-.')\n",
    "plt.axvline(clean_distance.std(),color = 'brown')\n",
    "plt.xlabel('Trip Distance')\n",
    "plt.ylabel('Count')\n",
    "plt.legend(['Mean','Median','std'])\n",
    "plt.title('Histogram of Trip Distance (Cleaned Data)')\n",
    "plt.savefig('trip_distance(clean).jpeg',format='jpeg')\n",
    "plt.show()"
   ]
  },
  {
   "cell_type": "code",
   "execution_count": 11,
   "metadata": {},
   "outputs": [
    {
     "data": {
      "image/png": "[encoded data removed]",
      "text/plain": [
       "<Figure size 432x288 with 1 Axes>"
      ]
     },
     "metadata": {},
     "output_type": "display_data"
    }
   ],
   "source": [
    "distance = data['Trip_distance']\n",
    "clean_distance = distance[~((distance-distance.mean()).abs()>distance.std()*3)]\n",
    "clean_distance = [c for c in distance if c!=0]\n",
    "zeros = [c for c in distance if c==0]\n",
    "plt.hist(np.log(clean_distance),bins = 40,facecolor = 'blue',alpha =0.5)\n",
    "# # clean_distance.hist(bins=30)\n",
    "# plt.axvline(clean_distance.mean(),color = 'red',linestyle = '--')\n",
    "# plt.axvline(clean_distance.median(),color = 'green',linestyle = '-.')\n",
    "# plt.axvline(clean_distance.std(),color = 'brown')\n",
    "plt.xlabel('Trip Distance')\n",
    "plt.ylabel('Count')\n",
    "# plt.legend(['Mean','Median','std'])\n",
    "plt.title('Histogram of Trip Distance (Cleaned Data)')\n",
    "# plt.savefig('trip_distance(clean).jpeg',format='jpeg')\n",
    "plt.show()"
   ]
  },
  {
   "cell_type": "markdown",
   "metadata": {},
   "source": [
    "I also tried to explore whether 'store_and_fwd_flag' will indicate a problem in the distance record. It's hard to tell if it means a problem so I choose to keep those."
   ]
  },
  {
   "cell_type": "code",
   "execution_count": 8,
   "metadata": {},
   "outputs": [
    {
     "data": {
      "image/png": "[encoded data removed]",
      "text/plain": [
       "<Figure size 432x288 with 1 Axes>"
      ]
     },
     "metadata": {},
     "output_type": "display_data"
    }
   ],
   "source": [
    "data.boxplot('Trip_distance',by = 'Store_and_fwd_flag')\n",
    "plt.ylim(0,10)\n",
    "plt.show()\n",
    "y = data[data['Store_and_fwd_flag']=='Y']['Trip_distance']\n",
    "n = data[data['Store_and_fwd_flag']=='N']['Trip_distance']\n"
   ]
  },
  {
   "cell_type": "markdown",
   "metadata": {},
   "source": [
    "### Summary:\n",
    "1. The histograms are shown above: one with all the data, one without potential outliers.\n",
    "2. **Structure**: The Trip Distance is skewed to the right and the count of different trip distance follows **lognormal** distribution. The median is smaller than both mean and std. Most of the data are in the range of 0 to 10, which is a reasonable amount. \n",
    "\n",
    "    **Assumption**: The distance distribution is not random, but may follow some rules. If the distances are random generated, the distribution may follow normal distribution."
   ]
  },
  {
   "cell_type": "markdown",
   "metadata": {},
   "source": [
    "## Question Three"
   ]
  },
  {
   "cell_type": "markdown",
   "metadata": {},
   "source": [
    "The hour needs to be extracted so that we can group by hour of day to compute the mean and median of trip distance. Hour information can be derived either by pickup or dropoff.  \n",
    "To extract the hour information, one can either use the regular expression, or  use standard datetime format of the datetime string. I converted the string to a strptime format for the convenience of future use."
   ]
  },
  {
   "cell_type": "code",
   "execution_count": 9,
   "metadata": {
    "collapsed": true,
    "scrolled": true
   },
   "outputs": [],
   "source": [
    "# Convert the the dropoff and pickup time to strptime format if not\n",
    "# Derive dropoff and pickup hour from strptime\n",
    "if type(data['Lpep_dropoff_datetime'][0]) ==str:\n",
    "    data['Lpep_dropoff_datetime'] = data['Lpep_dropoff_datetime'].apply(lambda x: dt.datetime.strptime(x,'%Y-%m-%d %H:%M:%S'))\n",
    "data['dropoff_hour'] = data['Lpep_dropoff_datetime'].dt.hour\n",
    "if type(data['lpep_pickup_datetime'][0])==str:\n",
    "    data['lpep_pickup_datetime'] = data['lpep_pickup_datetime'].apply(lambda x: dt.datetime.strptime(x,'%Y-%m-%d %H:%M:%S'))\n",
    "data['pickup_hour'] = data['lpep_pickup_datetime'].dt.hour   "
   ]
  },
  {
   "cell_type": "code",
   "execution_count": 10,
   "metadata": {
    "scrolled": true
   },
   "outputs": [
    {
     "name": "stdout",
     "output_type": "stream",
     "text": [
      "    pickup_hour      mean  median\n",
      "0             0  3.115276    2.20\n",
      "1             1  3.017347    2.12\n",
      "2             2  3.046176    2.14\n",
      "3             3  3.212945    2.20\n",
      "4             4  3.526555    2.36\n",
      "5             5  4.133474    2.90\n",
      "6             6  4.055149    2.84\n",
      "7             7  3.284394    2.17\n",
      "8             8  3.048450    1.98\n",
      "9             9  2.999105    1.96\n",
      "10           10  2.944482    1.92\n",
      "11           11  2.912015    1.88\n",
      "12           12  2.903065    1.89\n",
      "13           13  2.878294    1.84\n",
      "14           14  2.864304    1.83\n",
      "15           15  2.857040    1.81\n",
      "16           16  2.779852    1.80\n",
      "17           17  2.679114    1.78\n",
      "18           18  2.653222    1.80\n",
      "19           19  2.715597    1.85\n",
      "20           20  2.777052    1.90\n",
      "21           21  2.999189    2.03\n",
      "22           22  3.185394    2.20\n",
      "23           23  3.191538    2.22\n",
      "    dropoff_hour      mean  median\n",
      "0              0  3.239356    2.28\n",
      "1              1  3.130531    2.20\n",
      "2              2  3.143715    2.21\n",
      "3              3  3.225473    2.26\n",
      "4              4  3.463798    2.37\n",
      "5              5  4.187841    2.92\n",
      "6              6  3.932660    2.76\n",
      "7              7  3.217171    2.05\n",
      "8              8  2.923779    1.87\n",
      "9              9  3.016995    1.98\n",
      "10            10  3.010999    1.98\n",
      "11            11  2.879559    1.86\n",
      "12            12  2.907513    1.90\n",
      "13            13  2.889431    1.85\n",
      "14            14  2.767255    1.80\n",
      "15            15  2.771893    1.79\n",
      "16            16  2.766404    1.80\n",
      "17            17  2.690678    1.76\n",
      "18            18  2.673491    1.80\n",
      "19            19  2.746890    1.86\n",
      "20            20  2.800049    1.92\n",
      "21            21  2.931069    2.00\n",
      "22            22  3.147097    2.17\n",
      "23            23  3.231312    2.25\n"
     ]
    }
   ],
   "source": [
    "# group distance by pickup hour and aggregate to get the mean and median\n",
    "pickup_dis =  data[['Trip_distance','pickup_hour']].groupby(by = 'pickup_hour',as_index = False)\n",
    "pickup_dis_mm = pd.merge(pickup_dis.mean(),pickup_dis.median(), on = 'pickup_hour')\n",
    "pickup_dis_mm.rename(columns = {'Trip_distance_x':'mean','Trip_distance_y':'median'},inplace = True)\n",
    "# group by dropoff hour\n",
    "dropoff_dis = data[['Trip_distance','dropoff_hour']].groupby(by = 'dropoff_hour', as_index = False)\n",
    "dropoff_dis_mm = pd.merge(dropoff_dis.mean(),dropoff_dis.median(), on = 'dropoff_hour')\n",
    "dropoff_dis_mm.rename(columns = {'Trip_distance_x':'mean','Trip_distance_y':'median'}, inplace = True)\n",
    "print(pickup_dis_mm)\n",
    "print(dropoff_dis_mm)"
   ]
  },
  {
   "cell_type": "code",
   "execution_count": 11,
   "metadata": {
    "scrolled": true
   },
   "outputs": [
    {
     "data": {
      "image/png": "[encoded data removed]",
      "text/plain": [
       "<Figure size 648x360 with 1 Axes>"
      ]
     },
     "metadata": {},
     "output_type": "display_data"
    },
    {
     "data": {
      "image/png": "[encoded data removed]",
      "text/plain": [
       "<Figure size 648x360 with 1 Axes>"
      ]
     },
     "metadata": {},
     "output_type": "display_data"
    }
   ],
   "source": [
    "def plot(data,s):\n",
    "    '''''\n",
    "    Plot for distance mean/ median by hour\n",
    "    data: aggregated data\n",
    "    s: 'pickup' or 'dropoff'\n",
    "    '''''\n",
    "    fig,ax = plt.subplots(1,1,figsize=(9,5)) \n",
    "    data[['mean','median']].plot(ax=ax)\n",
    "    plt.ylabel('Distance (miles)')\n",
    "    plt.xlabel('Hours')\n",
    "    plt.title('Distribution of trip distance by %s hour'%s)\n",
    "    plt.xlim([0,23])\n",
    "    plt.savefig('%s.jpeg'%s,format='jpeg')\n",
    "    plt.show()\n",
    "plot(pickup_dis_mm,'pickup')\n",
    "plot(dropoff_dis_mm,'dropoff')"
   ]
  },
  {
   "cell_type": "markdown",
   "metadata": {},
   "source": [
    "From the above plots, there are two peaks at hour 0,5 and from 22 to 7 the mean distance tends to be greater than other times. The median is smaller than the mean at all times which indicates a right skewness. "
   ]
  },
  {
   "cell_type": "markdown",
   "metadata": {},
   "source": [
    "### 3.2 Airports rides"
   ]
  },
  {
   "cell_type": "markdown",
   "metadata": {},
   "source": [
    "**Assumptions**: \n",
    "    1. The areacode is accurate and the pickup/dropoff coordinate is also accurate.\n",
    "    2. Those transactions picked up at JFK/Newark are not recorded at RateCodeID. Some trips picked up or dropped off very close to JKF/Newark may not be counted in the RateCodeId as 2/3.\n",
    "    3. **RateCodeID**: The final rate code in effect at the end of the trip.   \n",
    "        1= Standard rate  2=JFK  3=Newark  \n",
    "        4=Nassau or Westchester  5=Negotiated fare  6=Group ride "
   ]
  },
  {
   "cell_type": "markdown",
   "metadata": {},
   "source": [
    "**Analysis**:   \n",
    "There are **three main airports** in New York. The latitude and longitude for Laguardia Airport is (40.7769° N, 73.8740° W), for JFK is (40.6413° N, 73.7781° W) and for Newark Liberty International Airport is (40.6895° N, 74.1745° W).  To find those who depart or arrive at the airport, we may use the information of **RateCodeID** (2,3 for JFK and Newark). Those with ratecode as 2 or 3 means trips end at Newark or JFK.   \n",
    "Otherwise, the **pickup or dropoff latitude and longitude** may also be used to identify trips originate or terminate at one of the NYC airports. I will use a rectanguar to capture the area of airports. A approximate square for the three airports are listed below:   \n",
    "\n",
    " - Laguardia Airport: (40.7675, 40.773) (-73.885, -73.865)  \n",
    " - JFK Airport: (40.6467, 40.6665) (-73.8219, -73.7503)  \n",
    " - Newark Airport: (40.675, 40.708) (-74.180, -74.155)  \n",
    " \n",
    "An oval may be better to caputure the area but hard to calculate. There are 5552 transactions which end up at JFK or Newark. Among those dropped off at JFK/Newark, some may be picked up at another airport, so we don't want to count those twice.\n"
   ]
  },
  {
   "cell_type": "code",
   "execution_count": 12,
   "metadata": {},
   "outputs": [
    {
     "data": {
      "text/plain": [
       "(5552, 23)"
      ]
     },
     "execution_count": 12,
     "metadata": {},
     "output_type": "execute_result"
    }
   ],
   "source": [
    "#get those with RatecodeID of 2 or 3\n",
    "jfk_newark_d = data[(data['RateCodeID']==2) | (data['RateCodeID']==3)]\n",
    "data_ = data[(data['RateCodeID']!=2) & (data['RateCodeID']!=3)]\n",
    "jfk_newark_d.shape"
   ]
  },
  {
   "cell_type": "code",
   "execution_count": 13,
   "metadata": {},
   "outputs": [
    {
     "name": "stdout",
     "output_type": "stream",
     "text": [
      "624 193 28 5974 3923 221\n"
     ]
    }
   ],
   "source": [
    "p_lgd = data_[(data_['Pickup_latitude'].between(40.7675, 40.773))& (data_['Pickup_longitude'].between(-73.885,-73.865))]\n",
    "p_jfk = data_[(data_['Pickup_latitude'].between(40.6467, 40.6665)) & (data_['Pickup_longitude'].between(-73.8219, -73.7503))]\n",
    "p_nwk = data_[(data_['Pickup_latitude'].between(40.672, 40.708)) & (data_['Pickup_longitude'].between(-74.180, -74.155))]\n",
    "d_lgd = data_[(data_['Dropoff_latitude'].between(40.7675, 40.773)) & (data_['Dropoff_longitude'].between(-73.885,-73.865))]\n",
    "d_jfk = data_[(data_['Dropoff_latitude'].between(40.6467, 40.6665)) & (data_['Dropoff_longitude'].between(-73.8219, -73.7503))]\n",
    "d_nwk = data_[(data_['Dropoff_latitude'].between(40.672, 40.708)) & (data_['Dropoff_longitude'].between(-74.180, -74.155))]\n",
    "print(len(p_lgd),len(p_jfk),len(p_nwk),len(d_lgd),len(d_jfk),len(d_nwk))"
   ]
  },
  {
   "cell_type": "code",
   "execution_count": 14,
   "metadata": {
    "collapsed": true
   },
   "outputs": [],
   "source": [
    "# get all possible transactions that meet the requirement \n",
    "airport = data[(data['Pickup_latitude'].between(40.7675, 40.773))& (data['Pickup_longitude'].between(-73.885,-73.865))|\n",
    "               (data['Pickup_latitude'].between(40.6467, 40.6665)) & (data['Pickup_longitude'].between(-73.8219, -73.7503))|\n",
    "               (data['Pickup_latitude'].between(40.672, 40.708)) & (data['Pickup_longitude'].between(-74.180, -74.155))|\n",
    "               (data['Dropoff_latitude'].between(40.7675, 40.773)) & (data['Dropoff_longitude'].between(-73.885,-73.865))|\n",
    "               (data['Dropoff_latitude'].between(40.6467, 40.6665)) & (data['Dropoff_longitude'].between(-73.8219, -73.7503))|\n",
    "               (data['Dropoff_latitude'].between(40.672, 40.708)) & (data['Dropoff_longitude'].between(-74.180, -74.155))|\n",
    "               (data['RateCodeID']==2) | (data['RateCodeID']==3)\n",
    "              ]"
   ]
  },
  {
   "cell_type": "code",
   "execution_count": 15,
   "metadata": {},
   "outputs": [
    {
     "name": "stdout",
     "output_type": "stream",
     "text": [
      "The rough count of trips that originate or terminate at one of the NYC area airports is 16296\n",
      "The mean of fare amount of trips that originate or terminate at one of the NYC area airports is 33.497535591556215\n",
      "The mean of total fare of trips that originate or terminate at one of the NYC area airports is 39.463142488955384\n",
      "The mean of fare amount of all trips is 12.54319751613129\n",
      "The mean of total fare of all trips is 15.032145751981083\n",
      "The mean of fare amount of trips using area code 2/3 is 48.976945244956774\n",
      "The mean of total fare of trips using area code 2/3 is 57.20842038904719\n"
     ]
    }
   ],
   "source": [
    "print('The rough count of trips that originate or terminate at one of the NYC area airports is %s'%airport.shape[0])\n",
    "print('The mean of fare amount of trips that originate or terminate at one of the NYC area airports is %s'%airport['Fare_amount'].mean())\n",
    "print('The mean of total fare of trips that originate or terminate at one of the NYC area airports is %s'%airport['Total_amount'].mean())\n",
    "print('The mean of fare amount of all trips is %s'%data['Fare_amount'].mean())\n",
    "print('The mean of total fare of all trips is %s'%data['Total_amount'].mean())\n",
    "print('The mean of fare amount of trips using area code 2/3 is %s'%jfk_newark_d['Fare_amount'].mean())\n",
    "print('The mean of total fare of trips using area code 2/3 is %s'%jfk_newark_d['Total_amount'].mean())"
   ]
  },
  {
   "cell_type": "markdown",
   "metadata": {},
   "source": [
    "**Summary and Finding:**\n",
    "    1. There are around 16296 trips that originate or terminate at one of the NYC area airports. The mean fare of those trips are 33.4975 and mean total fee is 39.463.\n",
    "    2. From the above statitics, there are more dropoffs than pickups in all three airports, which means people may prefer using other transportations after arriving at an airports, or there are simply more people flying from NYC to other places than flying to NYC.\n",
    "    3. The average fees is more than twice of the average fees of all trips. There are two possible reasons for this: The trips from or to the airports are generally longer than other trips as the fare amount is also higher; the trips from or to the airports are generally more expensive and the total fee will include high subcharges (trips to Newark) or high base fee (trip between manhattan and JFK."
   ]
  },
  {
   "cell_type": "markdown",
   "metadata": {},
   "source": [
    "## Question 4"
   ]
  },
  {
   "cell_type": "markdown",
   "metadata": {},
   "source": [
    "**Tip_amount**: Tip amount – This field is automatically populated for credit card tips. Cash tips are not included.  \n",
    "**Total_amount**: The total amount charged to passengers. Does not include cash tips."
   ]
  },
  {
   "cell_type": "markdown",
   "metadata": {},
   "source": [
    "### 4.1 Create tip as percentage of total fare"
   ]
  },
  {
   "cell_type": "markdown",
   "metadata": {},
   "source": [
    " - create and show summary statistics of relevant features."
   ]
  },
  {
   "cell_type": "code",
   "execution_count": 16,
   "metadata": {
    "scrolled": true
   },
   "outputs": [
    {
     "name": "stdout",
     "output_type": "stream",
     "text": [
      "         Tip_amount  Total_amount      tip_perc\n",
      "count  1.494926e+06  1.494926e+06  1.490754e+06\n",
      "mean   1.235727e+00  1.503215e+01  6.653826e+00\n",
      "std    2.431476e+00  1.155316e+01  8.875158e+00\n",
      "min   -5.000000e+01 -4.750000e+02  0.000000e+00\n",
      "25%    0.000000e+00  8.160000e+00  0.000000e+00\n",
      "50%    0.000000e+00  1.176000e+01  0.000000e+00\n",
      "75%    2.000000e+00  1.830000e+01  1.666667e+01\n",
      "max    3.000000e+02  5.813000e+02  1.000000e+02\n"
     ]
    }
   ],
   "source": [
    "data['tip_perc'] = data['Tip_amount']/data['Total_amount']*100\n",
    "print(data[['Tip_amount','Total_amount','tip_perc']].describe())"
   ]
  },
  {
   "cell_type": "markdown",
   "metadata": {},
   "source": [
    "Plot a distribution of Tip Percentage as well as tip amount"
   ]
  },
  {
   "cell_type": "code",
   "execution_count": 54,
   "metadata": {},
   "outputs": [
    {
     "name": "stderr",
     "output_type": "stream",
     "text": [
      "C:\\Users\\Jianqiu Kong\\AppData\\Roaming\\Python\\Python36\\site-packages\\numpy\\lib\\function_base.py:748: RuntimeWarning: invalid value encountered in greater_equal\n",
      "  keep = (tmp_a >= mn)\n",
      "C:\\Users\\Jianqiu Kong\\AppData\\Roaming\\Python\\Python36\\site-packages\\numpy\\lib\\function_base.py:749: RuntimeWarning: invalid value encountered in less_equal\n",
      "  keep &= (tmp_a <= mx)\n"
     ]
    },
    {
     "data": {
      "image/png": "[encoded data removed]",
      "text/plain": [
       "<Figure size 432x288 with 2 Axes>"
      ]
     },
     "metadata": {},
     "output_type": "display_data"
    }
   ],
   "source": [
    "fig, ax = plt.subplots(1,2)\n",
    "ax[0].hist(data['tip_perc'],bins = 30, facecolor='blue',alpha = 0.5)\n",
    "ax[0].set_xlabel('Tip Percentage')\n",
    "ax[0].set_ylabel('Count')\n",
    "ax[0].set_yscale('log')\n",
    "ax[0].set_title('Histogram of Tip Percentage')\n",
    "ax[1].hist(data['Tip_amount'],bins = 30, facecolor='blue',alpha = 0.5)\n",
    "ax[1].set_xlabel('Tip Amount')\n",
    "ax[1].set_ylabel('Count')\n",
    "ax[1].set_yscale('log')\n",
    "ax[1].set_title('Histogram of Tip Amount')\n",
    "plt.savefig('histo.jpeg')\n",
    "plt.show()"
   ]
  },
  {
   "cell_type": "markdown",
   "metadata": {},
   "source": [
    "plot two histogram by different methods"
   ]
  },
  {
   "cell_type": "code",
   "execution_count": 18,
   "metadata": {},
   "outputs": [
    {
     "data": {
      "image/png": "[encoded data removed]",
      "text/plain": [
       "<Figure size 432x288 with 2 Axes>"
      ]
     },
     "metadata": {},
     "output_type": "display_data"
    }
   ],
   "source": [
    "def plot_tip(data):\n",
    "    fig, ax = plt.subplots(1,2)\n",
    "    label = list(set(data['Payment_type']))\n",
    "    ax[0].hist(data[data['Payment_type']==1]['Tip_amount'],  histtype='bar')\n",
    "    ax[0].set_yscale('log')\n",
    "    ax[0].set_xlabel('Tip Amount')\n",
    "    ax[0].set_title('Hitogram for Tip by credit card')\n",
    "    ax[1].hist(data[data['Payment_type']!=1]['Tip_amount'],  histtype='bar')\n",
    "    ax[1].set_xlabel('Tip Amount')\n",
    "    ax[1].set_yscale('log')\n",
    "    ax[1].set_title('Hitogram for Tip by other methods')\n",
    "    plt.show()\n",
    "plot_tip(data)"
   ]
  },
  {
   "cell_type": "code",
   "execution_count": 19,
   "metadata": {},
   "outputs": [
    {
     "name": "stdout",
     "output_type": "stream",
     "text": [
      "Tip amount by other methods:\n",
      "************************************************************\n",
      "Tip by cash : {0.0, 13.26, 150.0}\n",
      "Tip by No charge : {0.0, -0.82, -0.76, -0.99, -0.66, -0.63, -1.14, -12.3, -11.2, -1.0, -2.7, -2.2, -1.29, -5.0, -3.0, -2.4, -1.7}\n",
      "Tip by Dispute : {0.0, -0.66, 3.95, -50.0}\n",
      "Tip by void : {0.0}\n"
     ]
    }
   ],
   "source": [
    "print('Tip amount by other methods:')\n",
    "print('*'*60)\n",
    "print('Tip by cash : %s'%set(data[data['Payment_type']==2]['Tip_amount']))\n",
    "print('Tip by No charge : %s'%set(data[data['Payment_type']==3]['Tip_amount']))\n",
    "print('Tip by Dispute : %s'%set(data[data['Payment_type']==4]['Tip_amount']))\n",
    "print('Tip by void : %s'%set(data[data['Payment_type']==5]['Tip_amount']))"
   ]
  },
  {
   "cell_type": "markdown",
   "metadata": {},
   "source": [
    "**Analysis**:  \n",
    "From the description above, we can see that over 50% of the trips had no tip recorded, there are several reasons. For those who paid tip with cash, the cash will not be recorded in the Tip_amount. The relationship between tip and payment type will be explored in the next subsection. There are also tip amount values that are extremely large like \\$200, these may be caused by mistake or some error or just good luck. The tip and total amount have some out-of-range values which is smaller than the theoratical minimum value.   \n",
    "    **Tip amount** should be equal to or greater than 0 while some existing values are smaller than 0. \n",
    "    **Total Amount** should be at least a base fee which is \\$2.5 as mentioned in reference [3]. Those have a negative tip amount also have a negative of total amount. We may assume that those with 0 or negative total amount transactions are not actually made or these is dispute, therefore, **those rows with out-of-range values (negative tip, too small total amount) should be filtered out**. For transactions made by credit card, no negative tips are recorded. The filtered data will then be used for further analysis and now we have 1487767 observations. A very large amount of tip is also suspicious, whether it is due to good luck, a mistake or anything else.  \n",
    "\n",
    "**Assumptions**:\n",
    " - I assumed that those transactions with zero total fare are not made successfully \n",
    " - Those with negative fare and tip values are outliers, not postive values recorded by mistake\n",
    "\n",
    "**Further Processing**:   \n",
    "I dropped those negative tip amount as well as those total amount less than 2.5"
   ]
  },
  {
   "cell_type": "code",
   "execution_count": 20,
   "metadata": {},
   "outputs": [
    {
     "data": {
      "text/plain": [
       "(1487767, 24)"
      ]
     },
     "execution_count": 20,
     "metadata": {},
     "output_type": "execute_result"
    }
   ],
   "source": [
    "clean_data = data[(data['Total_amount']>=2.5)& (data['Tip_amount']>=0) ]\n",
    "clean_data.shape"
   ]
  },
  {
   "cell_type": "markdown",
   "metadata": {},
   "source": [
    "### 4.2 Data Processing and Model Building"
   ]
  },
  {
   "cell_type": "markdown",
   "metadata": {},
   "source": [
    "#### Explortary Data Analysis"
   ]
  },
  {
   "cell_type": "markdown",
   "metadata": {},
   "source": [
    "**Fare_amount**： The time-and-distance fare calculated by the meter.  \n",
    "**Extra**： Miscellaneous extras and surcharges. Currently, this only includes the 0.50 and 1 rush hour and overnight charges.  \n",
    "**MTA_tax**: 0.50 MTA tax that is automatically triggered based on the metered rate in use.  \n",
    "**Improvement_surcharge**: 0.30 improvement surcharge assessed on hailed trips at the flag drop. The improvement surcharge began being levied in 2015.  \n",
    "**Tolls_amount**: Total amount of all tolls paid in trip.  \n"
   ]
  },
  {
   "cell_type": "code",
   "execution_count": 21,
   "metadata": {},
   "outputs": [
    {
     "name": "stdout",
     "output_type": "stream",
     "text": [
      "VendorID                       0\n",
      "lpep_pickup_datetime           0\n",
      "Lpep_dropoff_datetime          0\n",
      "Store_and_fwd_flag             0\n",
      "RateCodeID                     0\n",
      "Pickup_longitude               0\n",
      "Pickup_latitude                0\n",
      "Dropoff_longitude              0\n",
      "Dropoff_latitude               0\n",
      "Passenger_count                0\n",
      "Trip_distance                  0\n",
      "Fare_amount                    0\n",
      "Extra                          0\n",
      "MTA_tax                        0\n",
      "Tip_amount                     0\n",
      "Tolls_amount                   0\n",
      "Ehail_fee                1487767\n",
      "improvement_surcharge          0\n",
      "Total_amount                   0\n",
      "Payment_type                   0\n",
      "Trip_type                      4\n",
      "dropoff_hour                   0\n",
      "pickup_hour                    0\n",
      "tip_perc                       0\n",
      "dtype: int64\n"
     ]
    }
   ],
   "source": [
    "#check for missing values\n",
    "print(clean_data.isna().sum())"
   ]
  },
  {
   "cell_type": "code",
   "execution_count": 22,
   "metadata": {},
   "outputs": [
    {
     "name": "stdout",
     "output_type": "stream",
     "text": [
      "        Fare_amount         Extra       MTA_tax  improvement_surcharge  \\\n",
      "count  1.487767e+06  1.487767e+06  1.487767e+06           1.487767e+06   \n",
      "mean   1.261998e+01  3.535114e-01  4.896264e-01           2.938946e-01   \n",
      "std    9.976052e+00  3.653123e-01  7.126845e-02           4.235968e-02   \n",
      "min    0.000000e+00 -7.200000e-01  0.000000e+00           0.000000e+00   \n",
      "25%    6.500000e+00  0.000000e+00  5.000000e-01           3.000000e-01   \n",
      "50%    9.500000e+00  5.000000e-01  5.000000e-01           3.000000e-01   \n",
      "75%    1.550000e+01  5.000000e-01  5.000000e-01           3.000000e-01   \n",
      "max    5.805000e+02  1.200000e+01  5.000000e-01           3.000000e-01   \n",
      "\n",
      "       Tolls_amount  \n",
      "count  1.487767e+06  \n",
      "mean   1.237030e-01  \n",
      "std    8.928306e-01  \n",
      "min    0.000000e+00  \n",
      "25%    0.000000e+00  \n",
      "50%    0.000000e+00  \n",
      "75%    0.000000e+00  \n",
      "max    9.575000e+01  \n",
      "************************************************************\n",
      "unique values of trip types: {nan, 1.0, 2.0, nan, nan, nan}\n",
      "unique values of payment types: {1, 2, 3, 4, 5}\n",
      "unique values of passenger count: {0, 1, 2, 3, 4, 5, 6, 7, 8, 9}\n",
      "unique values of rateCodeID: {1, 2, 3, 4, 5, 6, 99}\n"
     ]
    }
   ],
   "source": [
    "# check for out-of-range values\n",
    "print(clean_data[['Fare_amount','Extra','MTA_tax','improvement_surcharge','Tolls_amount']].describe())\n",
    "print(\"*\"*60)\n",
    "print(\"unique values of trip types: %s\"%set(clean_data['Trip_type ']))\n",
    "print(\"unique values of payment types: %s\"%set(clean_data['Payment_type']))\n",
    "print(\"unique values of passenger count: %s\"%set(clean_data['Passenger_count']))\n",
    "print(\"unique values of rateCodeID: %s\"%set(clean_data['RateCodeID']))"
   ]
  },
  {
   "cell_type": "markdown",
   "metadata": {},
   "source": [
    "The following situations are detected:   \n",
    "**Ehail_fee**: This feature is completely missing, so this feature will be deleted.   \n",
    "**Trip type**: Missing values will be imputed by the mode.   \n",
    "**RateCodeID**: It has a code 99 which is not in the list which should mean missing, will be replaced by mode  \n",
    "**Fare_amount, Extra, MTA_amount, Tolls_fee, improvement_subcharges**: should all be at least 0, Extra still have negative values.    \n",
    "These conditions will be corrected in the data cleaning section. "
   ]
  },
  {
   "cell_type": "markdown",
   "metadata": {},
   "source": [
    "** Data Cleaning**"
   ]
  },
  {
   "cell_type": "code",
   "execution_count": 23,
   "metadata": {
    "collapsed": true
   },
   "outputs": [],
   "source": [
    "def clean(data):\n",
    "    newdata = data.copy(deep = True)\n",
    "    # drop the Ehail_fee column as 100% is missing and other features\n",
    "    if 'Ehail_fee' in newdata.columns:\n",
    "        newdata.drop(['Ehail_fee'],axis=1,inplace=True)\n",
    "    newdata['Trip_type '].fillna(newdata['Trip_type '].mode()[0], inplace = True) #impute missing trip type using the mode\n",
    "    newdata['Extra'] = newdata['Extra'].apply(lambda x:0 if x<0 else x)  #replace negative extra values with 0\n",
    "    newdata['RateCodeID'] = newdata['RateCodeID'].apply(lambda x: 1 if x==99 else x) #replace 99 with 1\n",
    "    \n",
    "    print('Data Cleaning Done')\n",
    "    return newdata"
   ]
  },
  {
   "cell_type": "markdown",
   "metadata": {},
   "source": [
    "**Feature Engineering**  \n",
    "Some features are hard to utilize directly, like pickuptime and location information, I will transform those features to usable features that can be fit in the model and drop the original ones. \n",
    "I created the following features from existing variables, speed and duration are features from question five.\n",
    "    1. day of week : Monday-Sunday\n",
    "    2. hour of day: which hour during the day\n",
    "    3. Speed: average speed by mph \n",
    "    4. Duration: The trip duration\n",
    "    5. airport: Measure whether the trips originate or terminate at one of the NYC area airports\n",
    "    (6. manhatten: Measure whether the trips originate or terminate at Mahatten)\n"
   ]
  },
  {
   "cell_type": "code",
   "execution_count": 24,
   "metadata": {
    "collapsed": true
   },
   "outputs": [],
   "source": [
    "def airport(data):\n",
    "    a = ((data['Pickup_latitude'].between(40.7675, 40.773)& data['Pickup_longitude'].between(-73.885,-73.865))|\\\n",
    "            (data['Pickup_latitude'].between(40.6467, 40.6665)) & (data['Pickup_longitude'].between(-73.8219, -73.7503))|\\\n",
    "            (data['Pickup_latitude'].between(40.672, 40.708)) & (data['Pickup_longitude'].between(-74.180, -74.155))|\\\n",
    "            (data['Dropoff_latitude'].between(40.7675, 40.773)) & (data['Dropoff_longitude'].between(-73.885,-73.865))|\\\n",
    "            (data['Dropoff_latitude'].between(40.6467, 40.6665)) & (data['Dropoff_longitude'].between(-73.8219, -73.7503))|\\\n",
    "            (data['Dropoff_latitude'].between(40.672, 40.708)) & (data['Dropoff_longitude'].between(-74.180, -74.155))|\\\n",
    "            (data['RateCodeID']==2) | (data['RateCodeID']==3))\n",
    "    return a\n",
    "# manhattan = (40.7831, -73.9712)\n",
    "# def man(row):\n",
    "#     if geodesic((row['Dropoff_latitude'],row['Dropoff_longitude']),manhattan).miles<=5 or\\\n",
    "#     geodesic((row['Pickup_latitude'],row['Pickup_longitude']),manhattan).miles<=5:\n",
    "        \n",
    "#         return 1\n",
    "#     else:\n",
    "#         return 0\n",
    "    \n",
    "def fe(newdata):\n",
    "    if 'Lpep_dropoff_datetime' in newdata.columns:\n",
    "        print('getting time related variable')\n",
    "        newdata['weekday'] = newdata['lpep_pickup_datetime'].dt.dayofweek\n",
    "        #get duration by minutes\n",
    "        newdata['duration'] = (newdata['Lpep_dropoff_datetime']-newdata['lpep_pickup_datetime']).apply(lambda x:x.total_seconds()/3600.)\n",
    "        newdata = newdata.drop(['lpep_pickup_datetime','Lpep_dropoff_datetime'],axis= 1)\n",
    "    print('getting speed')\n",
    "    #get speed by mph\n",
    "    newdata['speed'] = newdata['Trip_distance']/(newdata['duration'])\n",
    "    idx = newdata[(newdata['speed'].isna()) | (newdata['speed']>85)].index\n",
    "    norm_speed = newdata[newdata['speed']<=85]['speed']\n",
    "    newdata.loc[idx,'speed'] = np.random.normal(norm_speed.mean(),scale=norm_speed.std(),size=len(idx))\n",
    "    newdata['Passenger_count'] = newdata['Passenger_count'].apply(lambda x: 7 if x>7 else x)\n",
    "    #get whether pickup or dropoff is in airports\n",
    "    print('getting location')\n",
    "    #drop location information\n",
    "    if 'Pickup_latitude' in newdata.columns:\n",
    "        newdata['airports'] = airport(data)\n",
    "        newdata.drop(['Dropoff_latitude','Dropoff_longitude','Pickup_latitude','Pickup_longitude'],axis = 1,inplace=True)\n",
    "    #get whether pickup or dropoff is in manhattan\n",
    "#         newdata['manhattan'] = newdata.apply(man,axis = 1)\n",
    "    return newdata"
   ]
  },
  {
   "cell_type": "code",
   "execution_count": 25,
   "metadata": {},
   "outputs": [
    {
     "name": "stdout",
     "output_type": "stream",
     "text": [
      "Data Cleaning Done\n",
      "getting time related variable\n",
      "getting speed\n",
      "getting location\n"
     ]
    }
   ],
   "source": [
    "newdata = clean(clean_data)\n",
    "newdata = fe(newdata)"
   ]
  },
  {
   "cell_type": "markdown",
   "metadata": {},
   "source": [
    "#### Feature Selection"
   ]
  },
  {
   "cell_type": "code",
   "execution_count": 26,
   "metadata": {},
   "outputs": [
    {
     "data": {
      "text/plain": [
       "Index(['VendorID', 'Store_and_fwd_flag', 'RateCodeID', 'Passenger_count',\n",
       "       'Trip_distance', 'Fare_amount', 'Extra', 'MTA_tax', 'Tip_amount',\n",
       "       'Tolls_amount', 'improvement_surcharge', 'Total_amount', 'Payment_type',\n",
       "       'Trip_type ', 'dropoff_hour', 'pickup_hour', 'tip_perc', 'weekday',\n",
       "       'duration', 'speed', 'airports'],\n",
       "      dtype='object')"
      ]
     },
     "execution_count": 26,
     "metadata": {},
     "output_type": "execute_result"
    }
   ],
   "source": [
    "newdata.columns"
   ]
  },
  {
   "cell_type": "code",
   "execution_count": 28,
   "metadata": {},
   "outputs": [
    {
     "data": {
      "image/png": "[encoded data removed]",
      "text/plain": [
       "<Figure size 432x288 with 2 Axes>"
      ]
     },
     "metadata": {},
     "output_type": "display_data"
    }
   ],
   "source": [
    "#explore between continuous variables\n",
    "variables=['Total_amount','Fare_amount','Trip_distance','duration','Tolls_amount','speed','tip_perc']\n",
    "cor_mat = newdata[variables].corr()\n",
    "sns.heatmap(cor_mat)\n",
    "plt.xticks(range(len(variables)),variables.reverse())\n",
    "plt.yticks(range(len(variables)),variables)\n",
    "plt.title('Correlation between continuous variables')\n",
    "plt.savefig('corr.jpeg')\n",
    "plt.show()"
   ]
  },
  {
   "cell_type": "markdown",
   "metadata": {},
   "source": [
    "It seems that Total amount, fare_amount and duration are having heaviest correlation with tip_pec which suggest little linear relationship among the predictors and Tip_percent. I will use tree based models to capture a nonlinear relationship. Fare_amount, Trip_amount and Total_amount are highly correlated. This suggests that longer trip will bring more revenue. I will use Total amount to represent all other amounts."
   ]
  },
  {
   "cell_type": "code",
   "execution_count": 29,
   "metadata": {},
   "outputs": [
    {
     "data": {
      "image/png": "[encoded data removed]",
      "text/plain": [
       "<Figure size 720x720 with 6 Axes>"
      ]
     },
     "metadata": {},
     "output_type": "display_data"
    }
   ],
   "source": [
    "#exploration among catergorical features\n",
    "fig, ax = plt.subplots(3,2,figsize=(10, 10))\n",
    "fig.subplots_adjust(wspace=.2, hspace=.8)\n",
    "\n",
    "cat_list =['RateCodeID',  \n",
    "           'weekday', 'Passenger_count','VendorID','airports','Store_and_fwd_flag']\n",
    "\n",
    "for i, var in enumerate(cat_list):\n",
    "    c= int(i/2)\n",
    "    r = (i+2) % 2\n",
    "    newdata.boxplot('tip_perc',by = var,ax = ax[c][r])\n",
    "    plt.savefig('boxplot.jpeg')"
   ]
  },
  {
   "cell_type": "code",
   "execution_count": 30,
   "metadata": {
    "collapsed": true
   },
   "outputs": [],
   "source": [
    "newdata.drop(['Fare_amount','MTA_tax','Extra','Tip_amount','improvement_surcharge','Tolls_amount'],axis = 1, inplace = True)"
   ]
  },
  {
   "cell_type": "code",
   "execution_count": 31,
   "metadata": {},
   "outputs": [
    {
     "data": {
      "text/plain": [
       "Index(['VendorID', 'Store_and_fwd_flag', 'RateCodeID', 'Passenger_count',\n",
       "       'Trip_distance', 'Total_amount', 'Payment_type', 'Trip_type ',\n",
       "       'dropoff_hour', 'pickup_hour', 'tip_perc', 'weekday', 'duration',\n",
       "       'speed', 'airports'],\n",
       "      dtype='object')"
      ]
     },
     "execution_count": 31,
     "metadata": {},
     "output_type": "execute_result"
    }
   ],
   "source": [
    "newdata.columns"
   ]
  },
  {
   "cell_type": "markdown",
   "metadata": {},
   "source": [
    "**factorize categories**"
   ]
  },
  {
   "cell_type": "code",
   "execution_count": 32,
   "metadata": {
    "collapsed": true
   },
   "outputs": [],
   "source": [
    "categorical_features = [\n",
    "    _f for _f in newdata.columns\n",
    "    if  (newdata[_f].dtype == 'object')\n",
    "]\n",
    "for f in categorical_features:\n",
    "    newdata[f], indexer = pd.factorize(newdata[f])"
   ]
  },
  {
   "cell_type": "code",
   "execution_count": 33,
   "metadata": {},
   "outputs": [
    {
     "name": "stdout",
     "output_type": "stream",
     "text": [
      "0\n"
     ]
    }
   ],
   "source": [
    "#check for missing and drop dulicate if applicable\n",
    "print(newdata.isna().sum().sum())\n",
    "newdata.drop_duplicates(inplace = True)"
   ]
  },
  {
   "cell_type": "markdown",
   "metadata": {},
   "source": [
    "#### Feature Summary\n",
    "Only those transactions made with credit card should have a recorded tip amount and others will not be used for training a model according to the previous result. This also decrease training as using those transactions made with other payment types will add to computational cost but yield no real improvement on prediction.\n",
    "\n",
    "I will be using the following features for prediction: \n",
    "\n",
    "       VendorID, RateCodeID, Passenger_count, Trip_distance, Total_amount, Trip_type, dropoff_hour, pickup_hour, weekday, duration, speed, airports, Storage_and_fwd_flag\n",
    "       "
   ]
  },
  {
   "cell_type": "code",
   "execution_count": 34,
   "metadata": {},
   "outputs": [
    {
     "name": "stdout",
     "output_type": "stream",
     "text": [
      "(700149, 15)\n"
     ]
    }
   ],
   "source": [
    "newdata = newdata[newdata['Payment_type']==1]\n",
    "print(newdata.shape)\n",
    "y = newdata['tip_perc']\n",
    "x = newdata.drop(['tip_perc','Payment_type'],axis = 1)\n",
    "xtrain, xtest, ytrain, ytest = train_test_split(x, y, test_size = 0.3, random_state = 45)"
   ]
  },
  {
   "cell_type": "markdown",
   "metadata": {},
   "source": [
    "**Model Building**"
   ]
  },
  {
   "cell_type": "code",
   "execution_count": 35,
   "metadata": {
    "collapsed": true
   },
   "outputs": [],
   "source": [
    "def gcv(xtrain,ytrain):\n",
    "    cv = KFold(3)\n",
    "    param_grid = {'n_estimators':(75,100,130)}\n",
    "    rf = RandomForestRegressor(n_jobs=-1)\n",
    "    clf = GridSearchCV(estimator=rf,param_grid=param_grid, cv=cv)\n",
    "    clf.fit(xtrain,ytrain)\n",
    "    return clf\n",
    "# clf = gcv(xtrain, ytrain)"
   ]
  },
  {
   "cell_type": "markdown",
   "metadata": {},
   "source": [
    "The best parameter from the cross validation is 130"
   ]
  },
  {
   "cell_type": "code",
   "execution_count": 37,
   "metadata": {},
   "outputs": [
    {
     "data": {
      "text/plain": [
       "RandomForestRegressor(bootstrap=True, criterion='mse', max_depth=None,\n",
       "           max_features='auto', max_leaf_nodes=None,\n",
       "           min_impurity_decrease=0.0, min_impurity_split=None,\n",
       "           min_samples_leaf=1, min_samples_split=2,\n",
       "           min_weight_fraction_leaf=0.0, n_estimators=130, n_jobs=-1,\n",
       "           oob_score=False, random_state=None, verbose=0, warm_start=False)"
      ]
     },
     "execution_count": 37,
     "metadata": {},
     "output_type": "execute_result"
    }
   ],
   "source": [
    "# retrain the model on the training using best param\n",
    "rf = RandomForestRegressor(n_estimators = 130,n_jobs=-1)\n",
    "rf.fit(xtrain, ytrain)"
   ]
  },
  {
   "cell_type": "code",
   "execution_count": 38,
   "metadata": {},
   "outputs": [
    {
     "data": {
      "text/plain": [
       "8.3706846201708363"
      ]
     },
     "execution_count": 38,
     "metadata": {},
     "output_type": "execute_result"
    }
   ],
   "source": [
    "#prediction and evaluation\n",
    "y_pred = rf.predict(xtest)\n",
    "mean_squared_error(y_pred, ytest)"
   ]
  },
  {
   "cell_type": "code",
   "execution_count": 76,
   "metadata": {},
   "outputs": [
    {
     "name": "stdout",
     "output_type": "stream",
     "text": [
      "Feature ranking:\n",
      "1. feature Total_amount (0.457169)\n",
      "2. feature duration (0.241665)\n",
      "3. feature Trip_distance (0.162660)\n",
      "4. feature RateCodeID (0.035772)\n",
      "5. feature pickup_hour (0.026755)\n",
      "6. feature speed (0.024932)\n",
      "7. feature dropoff_hour (0.018662)\n",
      "8. feature weekday (0.016422)\n",
      "9. feature VendorID (0.005809)\n",
      "10. feature Trip_type  (0.004829)\n",
      "11. feature Passenger_count (0.003773)\n",
      "12. feature airports (0.001319)\n",
      "13. feature Store_and_fwd_flag (0.000232)\n"
     ]
    },
    {
     "data": {
      "image/png": "[encoded data removed]",
      "text/plain": [
       "<Figure size 432x288 with 1 Axes>"
      ]
     },
     "metadata": {},
     "output_type": "display_data"
    }
   ],
   "source": [
    "cols = x.columns\n",
    "importances = rf.feature_importances_\n",
    "std = np.std([tree.feature_importances_ for tree in rf.estimators_],\n",
    "             axis=0)\n",
    "indices = np.argsort(importances)[::-1]\n",
    "\n",
    "# Print the feature ranking\n",
    "print(\"Feature ranking:\")\n",
    "\n",
    "for f in range(x.shape[1]):\n",
    "    print(\"%d. feature %s (%f)\" % (f + 1, cols[indices[f]], importances[indices[f]]))\n",
    "\n",
    "# Plot the feature importances of the forest\n",
    "plt.figure()\n",
    "plt.title(\"Feature importances\")\n",
    "plt.bar(range(5), importances[indices][:5],\n",
    "       color=\"r\", yerr=std[indices][:5], align=\"center\")\n",
    "plt.xticks(range(5), [cols[i] for i in indices][:5])\n",
    "plt.xlim([-1, 5])\n",
    "plt.savefig('fi.jpeg')\n",
    "plt.show()"
   ]
  },
  {
   "cell_type": "markdown",
   "metadata": {},
   "source": [
    "From the feature importance plot by random forest, we can determine the top five factors that affect the tip percentage: Total_amount, duration, Trip_distance, RateCodeID, and pickup_hour. While Total_amount, duration, trip distance are positively related. "
   ]
  },
  {
   "cell_type": "markdown",
   "metadata": {},
   "source": [
    "#### Summary:\n",
    "I have done a data processing step including data cleaning, feature engineering and feature selection. 13 final features are used for prediction. The final model is a RandomForestRegressor with 130 tree and other parameters as default. The total transactions that paid using credit card are splitted into train and test set by the ratio of 7:3. The evaluation metric is mean sqaure error. MSE on the test data is 8.355 as reported above. The prediction for transactions made with other payment methods will always be zero supposing that cash tips are not recorded in the system.\n",
    "\n",
    "While the trip distance looks so important for a tip percentage, so other factors lead to a logner distance will be more profitable to drivers."
   ]
  },
  {
   "cell_type": "markdown",
   "metadata": {},
   "source": [
    "## Question 5 Distribution"
   ]
  },
  {
   "cell_type": "markdown",
   "metadata": {},
   "source": [
    "### 5.1  Build a derived variable for speed"
   ]
  },
  {
   "cell_type": "code",
   "execution_count": 39,
   "metadata": {},
   "outputs": [
    {
     "data": {
      "text/plain": [
       "count    1.493989e+06\n",
       "mean              inf\n",
       "std               NaN\n",
       "min      0.000000e+00\n",
       "25%      9.313761e+00\n",
       "50%      1.176820e+01\n",
       "75%      1.506608e+01\n",
       "max               inf\n",
       "Name: speed, dtype: float64"
      ]
     },
     "execution_count": 39,
     "metadata": {},
     "output_type": "execute_result"
    }
   ],
   "source": [
    "#calculate the duration, measured by hour\n",
    "data_ = data.copy()\n",
    "data_['duration'] = (data_['Lpep_dropoff_datetime'] - data_['lpep_pickup_datetime']).apply(lambda x: x.total_seconds()/3600.) \n",
    "data_['duration'].describe()\n",
    "#calculate the speed, measured by mph\n",
    "data_['speed'] = data_['Trip_distance']/data_['duration']\n",
    "data_['speed'].describe()"
   ]
  },
  {
   "cell_type": "markdown",
   "metadata": {},
   "source": [
    "Speed has infinite values due to divide by zero operations. Meanwhile, due to a speed limit, I dropped those higher than 85 mph according to the USA speed limit[5].  Around 4000 instances are dropped."
   ]
  },
  {
   "cell_type": "code",
   "execution_count": 40,
   "metadata": {},
   "outputs": [
    {
     "data": {
      "text/plain": [
       "(1490771, 26)"
      ]
     },
     "execution_count": 40,
     "metadata": {},
     "output_type": "execute_result"
    }
   ],
   "source": [
    "#keep those speed within 85 mph and drop missing values\n",
    "data_ = data_[data_['speed']<=85]\n",
    "data_.shape"
   ]
  },
  {
   "cell_type": "code",
   "execution_count": 41,
   "metadata": {
    "scrolled": true
   },
   "outputs": [
    {
     "data": {
      "image/png": "[encoded data removed]",
      "text/plain": [
       "<Figure size 432x288 with 1 Axes>"
      ]
     },
     "metadata": {},
     "output_type": "display_data"
    }
   ],
   "source": [
    "plt.hist(data_['speed'],bins = 30,facecolor = 'blue',alpha =0.5)\n",
    "plt.xlabel('Speed')\n",
    "plt.ylabel('Count')\n",
    "plt.title('Histogram of Speed')\n",
    "plt.savefig('speed.jpeg',format='jpeg')\n",
    "plt.show()"
   ]
  },
  {
   "cell_type": "markdown",
   "metadata": {},
   "source": [
    "### 5.2 Speed test"
   ]
  },
  {
   "cell_type": "markdown",
   "metadata": {},
   "source": [
    "get a new feature representing the number of week in September"
   ]
  },
  {
   "cell_type": "code",
   "execution_count": 42,
   "metadata": {
    "collapsed": true
   },
   "outputs": [],
   "source": [
    "#get the week number(in a year) in Sepmtember\n",
    "data_['week'] = data_['lpep_pickup_datetime'].apply(lambda x:x.isocalendar()[1])"
   ]
  },
  {
   "cell_type": "code",
   "execution_count": 43,
   "metadata": {
    "collapsed": true
   },
   "outputs": [],
   "source": [
    "#get mean and median speed by week\n",
    "speed = data_[['week','speed']].groupby('week',as_index = False)\n",
    "std = data_[['week','speed']].groupby('week').std()\n",
    "speed_by_week = pd.merge(speed.mean(),std, on = 'week')\n",
    "speed_by_week.rename(columns={'speed_x':'mean_speed','speed_y':'std_speed'},inplace=True)"
   ]
  },
  {
   "cell_type": "code",
   "execution_count": 44,
   "metadata": {
    "scrolled": true
   },
   "outputs": [
    {
     "data": {
      "image/png": "[encoded data removed]",
      "text/plain": [
       "<Figure size 432x288 with 1 Axes>"
      ]
     },
     "metadata": {},
     "output_type": "display_data"
    }
   ],
   "source": [
    "#boxplot of speed by week\n",
    "data_.boxplot('speed',by= 'week')\n",
    "plt.ylim(0,30)\n",
    "plt.savefig('speedbyweek.jpeg')\n",
    "plt.show()\n",
    "weeks = []\n",
    "for i in range(36,41):\n",
    "    weeks.append(data_[data_['week']==i]['speed'])"
   ]
  },
  {
   "cell_type": "markdown",
   "metadata": {},
   "source": [
    "#### Hypothesis Testing:\n",
    "     Null Hypothesis:  The average trip speeds are materially the same in all weeks of September.  \n",
    "  I will be using *one way ANOVA* ( technique that can be used to compare means of two or more samples) to measure and test for the null hypothesis.\n",
    "#### Assumption:\n",
    "    - The samples are independent. (Statisfied)\n",
    "    - Each sample is from a normally distributed population.\n",
    "    - The population standard deviations of the groups are all equal. This property is known as homoscedasticity.\n"
   ]
  },
  {
   "cell_type": "code",
   "execution_count": 45,
   "metadata": {},
   "outputs": [
    {
     "name": "stdout",
     "output_type": "stream",
     "text": [
      "Checking the Normalty of different groups:\n",
      "\n",
      "NormaltestResult(statistic=101021.10316743306, pvalue=0.0)\n",
      "NormaltestResult(statistic=123482.56952085817, pvalue=0.0)\n",
      "NormaltestResult(statistic=132146.79431265392, pvalue=0.0)\n",
      "NormaltestResult(statistic=113681.96431945427, pvalue=0.0)\n",
      "NormaltestResult(statistic=48895.863119247762, pvalue=0.0)\n",
      "************************************************************\n",
      "Checking the homoscedasticity:\n",
      "\n",
      "   week  mean_speed  std_speed\n",
      "0    36   13.262627   6.058300\n",
      "1    37   12.601001   5.967376\n",
      "2    38   12.602861   5.857326\n",
      "3    39   13.075347   6.042444\n",
      "4    40   12.408672   5.860216\n"
     ]
    }
   ],
   "source": [
    "# check assumptions, normalty:\n",
    "print('Checking the Normalty of different groups:\\n')\n",
    "\n",
    "for w in weeks:\n",
    "    print(stats.normaltest(w))\n",
    "#check assumptions, homoscedasticity:\n",
    "print('*'*60)\n",
    "print('Checking the homoscedasticity:\\n')\n",
    "print(speed_by_week)"
   ]
  },
  {
   "cell_type": "markdown",
   "metadata": {},
   "source": [
    "#### One way Anova\n",
    "   The assumptions of one way anova are checked above, the homoscedasticity can be seen as roughly satisfied. It should be safe to use one way anova. The results of comparing among two groups are shown below."
   ]
  },
  {
   "cell_type": "code",
   "execution_count": 49,
   "metadata": {},
   "outputs": [
    {
     "name": "stdout",
     "output_type": "stream",
     "text": [
      "pairs | F-score | p-value\n",
      "week_1_2 | 1986.46774986 | 0.0\n",
      "week_1_3 | 2005.11560412 | 0.0\n",
      "week_1_4 | 151.931423175 | 6.61913990315e-35\n",
      "week_1_5 | 1852.62319546 | 0.0\n",
      "week_2_3 | 0.0178735779959 | 0.893646088486\n",
      "week_2_4 | 1092.97691386 | 1.69990123374e-239\n",
      "week_2_5 | 101.381309374 | 7.62791080637e-24\n",
      "week_3_4 | 1099.21361256 | 7.55191290219e-241\n",
      "week_3_5 | 105.925023275 | 7.70254220051e-25\n",
      "week_4_5 | 1173.65797178 | 6.73768848245e-257\n",
      "************************************************************\n",
      "statistics among all weeks: F statistics: 962.909601227 p values:0.0\n"
     ]
    }
   ],
   "source": [
    "print('pairs | F-score | p-value')\n",
    "for i in range(len(weeks)):\n",
    "    for j in range(i+1,len(weeks)):\n",
    "        week = \"week_\"+str(i+1)+\"_\"+str(j+1)\n",
    "        #getting F statistics and p value\n",
    "        F, p = stats.f_oneway(weeks[i], weeks[j])\n",
    "        print(week+' | '+str(F)+' | '+str(p))\n",
    "print('*'*60)\n",
    "F, p = stats.f_oneway(weeks[0],weeks[1],weeks[2],weeks[3],weeks[4])\n",
    "print('statistics among all weeks: F statistics: %s p values:%s'%(F,p))"
   ]
  },
  {
   "cell_type": "markdown",
   "metadata": {},
   "source": [
    "According from the results above, I may reject the null hypothesis that The average trip speeds are materially the same in all weeks of September. It is also interesting to note that among the pairwise anova test, week 2 and week 3 tend to come from a same distribution. Overall, the one_way ANOVA among five weeks indicates that the mean of the five groups are significantly different.\n",
    "\n",
    "Note: The result may vary when using different speed limits."
   ]
  },
  {
   "cell_type": "markdown",
   "metadata": {},
   "source": [
    "**Explanation for speed variation**:  "
   ]
  },
  {
   "cell_type": "code",
   "execution_count": 50,
   "metadata": {},
   "outputs": [
    {
     "data": {
      "image/png": "[encoded data removed]",
      "text/plain": [
       "<Figure size 432x288 with 1 Axes>"
      ]
     },
     "metadata": {},
     "output_type": "display_data"
    }
   ],
   "source": [
    "#plot the boxplot for the speed by day\n",
    "data_['day'] = data_['lpep_pickup_datetime'].dt.day\n",
    "data_.boxplot('speed',by = 'day')\n",
    "plt.ylim(0,30)\n",
    "plt.savefig('speedbyday.jpeg')\n",
    "plt.show()"
   ]
  },
  {
   "cell_type": "markdown",
   "metadata": {},
   "source": [
    "Assume that Workdays are busy, the taxis tend to be slower than weekends as people commutes between home and work and this can be supported by the boxplot above. My Explanation for the variation is as follows:    \n",
    "\n",
    "    Week 1: Week 1 contains 6 days except for Monday, and people were travelling out of city or spending their weekends at home which makes the speed generally higher as fewer people were driving on the road. \n",
    "    \n",
    "    Week 2: A decrease in mean can be noticed, this may be caused by a traffic jam after the three day holiday.\n",
    "    \n",
    "    Week 3: Looks like a normal week in September.\n",
    "    \n",
    "    Week 4: This week should be a normal, but the average speed tend to be higher, I would image that maybe people were taking public transportation or some events happened to make driving easier.\n",
    "    \n",
    "    Week 5: This week only had 3 workdays recorded, the average speed of this week is expected to be lower. "
   ]
  },
  {
   "cell_type": "markdown",
   "metadata": {},
   "source": [
    "#### 5.3  hypothesis of average trip speed as a function of time of day"
   ]
  },
  {
   "cell_type": "code",
   "execution_count": 51,
   "metadata": {},
   "outputs": [
    {
     "data": {
      "image/png": "[encoded data removed]",
      "text/plain": [
       "<Figure size 432x288 with 1 Axes>"
      ]
     },
     "metadata": {},
     "output_type": "display_data"
    }
   ],
   "source": [
    "#get hour and plot boxplot by speed\n",
    "data_['hour'] = data['lpep_pickup_datetime'].dt.hour\n",
    "data_.boxplot('speed',by= 'hour')\n",
    "plt.ylim(0,30)\n",
    "plt.savefig('speedbyhour.jpeg')\n",
    "plt.show()"
   ]
  },
  {
   "cell_type": "code",
   "execution_count": 52,
   "metadata": {
    "collapsed": true
   },
   "outputs": [],
   "source": [
    "hours = []\n",
    "for i in range(24):\n",
    "    hours.append( data_[data_['hour'] == i]['speed'])"
   ]
  },
  {
   "cell_type": "code",
   "execution_count": 53,
   "metadata": {},
   "outputs": [
    {
     "name": "stdout",
     "output_type": "stream",
     "text": [
      "pairs | F-score | p-value\n",
      "hour_0_1 | 48.0662926705 | 4.14110924899e-12\n",
      "hour_0_2 | 134.387713077 | 4.68903043073e-31\n",
      "hour_0_3 | 366.087297623 | 1.87230672466e-81\n",
      "hour_0_4 | 1146.98122035 | 6.7699118349e-250\n",
      "hour_0_5 | 3384.19896524 | 0.0\n",
      "hour_0_6 | 2266.09070717 | 0.0\n",
      "hour_0_7 | 805.546135489 | 1.48804202192e-176\n",
      "hour_0_8 | 4333.63823778 | 0.0\n",
      "hour_0_9 | 3553.67741795 | 0.0\n",
      "hour_0_10 | 3506.83081657 | 0.0\n",
      "hour_0_11 | 4591.90665439 | 0.0\n",
      "hour_0_12 | 5203.36530608 | 0.0\n",
      "hour_0_13 | 5658.92660925 | 0.0\n",
      "hour_0_14 | 9132.23067402 | 0.0\n",
      "hour_0_15 | 12901.7712463 | 0.0\n",
      "hour_0_16 | 15904.8363884 | 0.0\n",
      "hour_0_17 | 17597.127358 | 0.0\n",
      "hour_0_18 | 12770.22829 | 0.0\n",
      "hour_0_19 | 8345.04739761 | 0.0\n",
      "hour_0_20 | 4090.72487019 | 0.0\n",
      "hour_0_21 | 1058.580778 | 2.05645229241e-231\n",
      "hour_0_22 | 272.159584428 | 4.34198451228e-61\n",
      "hour_0_23 | 54.5955000525 | 1.4885686164e-13\n",
      "hour_1_2 | 24.2258254211 | 8.58194274173e-07\n",
      "hour_1_3 | 159.754858722 | 1.3807801609e-36\n",
      "hour_1_4 | 729.206431846 | 6.99756741898e-160\n",
      "hour_1_5 | 2598.54083284 | 0.0\n",
      "hour_1_6 | 1623.48249938 | 0.0\n",
      "hour_1_7 | 1058.54434797 | 6.26922082454e-231\n",
      "hour_1_8 | 4643.01259867 | 0.0\n",
      "hour_1_9 | 3891.55429957 | 0.0\n",
      "hour_1_10 | 3851.28054292 | 0.0\n",
      "hour_1_11 | 4918.337382 | 0.0\n",
      "hour_1_12 | 5535.65314976 | 0.0\n",
      "hour_1_13 | 5989.89328715 | 0.0\n",
      "hour_1_14 | 9374.81210887 | 0.0\n",
      "hour_1_15 | 13039.9775701 | 0.0\n",
      "hour_1_16 | 15943.1163385 | 0.0\n",
      "hour_1_17 | 17615.2211788 | 0.0\n",
      "hour_1_18 | 13007.8494794 | 0.0\n",
      "hour_1_19 | 8760.74758091 | 0.0\n",
      "hour_1_20 | 4583.00800124 | 0.0\n",
      "hour_1_21 | 1440.75175594 | 1.17225865297e-313\n",
      "hour_1_22 | 520.768298005 | 4.70874555696e-115\n",
      "hour_1_23 | 201.87942558 | 8.77471402534e-46\n",
      "hour_2_3 | 58.0133024025 | 2.63488688296e-14\n",
      "hour_2_4 | 455.003446405 | 1.26716450287e-100\n",
      "hour_2_5 | 1980.14486801 | 0.0\n",
      "hour_2_6 | 1153.39679863 | 1.44414130189e-250\n",
      "hour_2_7 | 1194.38644207 | 7.2290193037e-260\n",
      "hour_2_8 | 4576.31024146 | 0.0\n",
      "hour_2_9 | 3889.49840735 | 0.0\n",
      "hour_2_10 | 3866.33124108 | 0.0\n",
      "hour_2_11 | 4858.56425182 | 0.0\n",
      "hour_2_12 | 5447.80799618 | 0.0\n",
      "hour_2_13 | 5879.27409704 | 0.0\n",
      "hour_2_14 | 8994.65727466 | 0.0\n",
      "hour_2_15 | 12378.8151511 | 0.0\n",
      "hour_2_16 | 15048.1693024 | 0.0\n",
      "hour_2_17 | 16600.4638781 | 0.0\n",
      "hour_2_18 | 12370.8970615 | 0.0\n",
      "hour_2_19 | 8503.00616584 | 0.0\n",
      "hour_2_20 | 4645.59443019 | 0.0\n",
      "hour_2_21 | 1640.66277267 | 0.0\n",
      "hour_2_22 | 701.049523575 | 4.69980557753e-154\n",
      "hour_2_23 | 342.770945069 | 2.030358287e-76\n",
      "hour_3_4 | 171.575090683 | 3.81007292272e-39\n",
      "hour_3_5 | 1243.83732014 | 4.93771450837e-269\n",
      "hour_3_6 | 620.5454944 | 3.34189091702e-136\n",
      "hour_3_7 | 1503.75896079 | 0.0\n",
      "hour_3_8 | 4812.55548573 | 0.0\n",
      "hour_3_9 | 4183.5766182 | 0.0\n",
      "hour_3_10 | 4166.66354 | 0.0\n",
      "hour_3_11 | 5102.35943812 | 0.0\n",
      "hour_3_12 | 5678.34911154 | 0.0\n",
      "hour_3_13 | 6092.70208989 | 0.0\n",
      "hour_3_14 | 9018.61245667 | 0.0\n",
      "hour_3_15 | 12188.762104 | 0.0\n",
      "hour_3_16 | 14672.2285462 | 0.0\n",
      "hour_3_17 | 16165.8390792 | 0.0\n",
      "hour_3_18 | 12320.7054977 | 0.0\n",
      "hour_3_19 | 8758.72916568 | 0.0\n",
      "hour_3_20 | 5110.98001812 | 0.0\n",
      "hour_3_21 | 2117.58116645 | 0.0\n",
      "hour_3_22 | 1096.93623889 | 2.02085006351e-239\n",
      "hour_3_23 | 665.630011225 | 2.4122738794e-146\n",
      "hour_4_5 | 478.062750339 | 2.12605154967e-105\n",
      "hour_4_6 | 126.117348886 | 3.14736215469e-29\n",
      "hour_4_7 | 2437.54110963 | 0.0\n",
      "hour_4_8 | 6211.61277926 | 0.0\n",
      "hour_4_9 | 5591.66063728 | 0.0\n",
      "hour_4_10 | 5552.16037946 | 0.0\n",
      "hour_4_11 | 6533.36807129 | 0.0\n",
      "hour_4_12 | 7173.77725321 | 0.0\n",
      "hour_4_13 | 7613.68234811 | 0.0\n",
      "hour_4_14 | 10742.3707607 | 0.0\n",
      "hour_4_15 | 14083.1079521 | 0.0\n",
      "hour_4_16 | 16671.4659131 | 0.0\n",
      "hour_4_17 | 18360.9300757 | 0.0\n",
      "hour_4_18 | 14649.1110672 | 0.0\n",
      "hour_4_19 | 10997.4885682 | 0.0\n",
      "hour_4_20 | 7069.75192621 | 0.0\n",
      "hour_4_21 | 3600.16141813 | 0.0\n",
      "hour_4_22 | 2284.93321767 | 0.0\n",
      "hour_4_23 | 1665.89710488 | 0.0\n",
      "hour_5_6 | 130.015198184 | 4.53581812193e-30\n",
      "hour_5_7 | 4567.42988455 | 0.0\n",
      "hour_5_8 | 8978.34587978 | 0.0\n",
      "hour_5_9 | 8399.73834822 | 0.0\n",
      "hour_5_10 | 8372.77523962 | 0.0\n",
      "hour_5_11 | 9422.79308844 | 0.0\n",
      "hour_5_12 | 10206.4140242 | 0.0\n",
      "hour_5_13 | 10716.1629628 | 0.0\n",
      "hour_5_14 | 14166.9625374 | 0.0\n",
      "hour_5_15 | 17862.9005768 | 0.0\n",
      "hour_5_16 | 20682.6541291 | 0.0\n",
      "hour_5_17 | 22722.3534792 | 0.0\n",
      "hour_5_18 | 19069.9674118 | 0.0\n",
      "hour_5_19 | 15305.7600311 | 0.0\n",
      "hour_5_20 | 11008.4708951 | 0.0\n",
      "hour_5_21 | 6864.76424356 | 0.0\n",
      "hour_5_22 | 5141.29024698 | 0.0\n",
      "hour_5_23 | 4272.46453921 | 0.0\n",
      "hour_6_7 | 3648.8507071 | 0.0\n",
      "hour_6_8 | 8048.94900228 | 0.0\n",
      "hour_6_9 | 7402.17049462 | 0.0\n",
      "hour_6_10 | 7361.04242429 | 0.0\n",
      "hour_6_11 | 8450.79964308 | 0.0\n",
      "hour_6_12 | 9208.54097263 | 0.0\n",
      "hour_6_13 | 9714.16449388 | 0.0\n",
      "hour_6_14 | 13237.9392098 | 0.0\n",
      "hour_6_15 | 16996.9180632 | 0.0\n",
      "hour_6_16 | 19885.909841 | 0.0\n",
      "hour_6_17 | 21875.2230713 | 0.0\n",
      "hour_6_18 | 17940.4903904 | 0.0\n",
      "hour_6_19 | 13964.3292705 | 0.0\n",
      "hour_6_20 | 9549.50391114 | 0.0\n",
      "hour_6_21 | 5460.2606114 | 0.0\n",
      "hour_6_22 | 3823.77667225 | 0.0\n",
      "hour_6_23 | 3018.4700231 | 0.0\n",
      "hour_7_8 | 822.250506112 | 4.18581216152e-180\n",
      "hour_7_9 | 525.837361939 | 4.42904752154e-116\n",
      "hour_7_10 | 531.668983296 | 2.49753775997e-117\n",
      "hour_7_11 | 917.858359721 | 1.08368696487e-200\n",
      "hour_7_12 | 1127.952772 | 6.66853567389e-246\n",
      "hour_7_13 | 1305.441227 | 5.29030806585e-284\n",
      "hour_7_14 | 2659.87524336 | 0.0\n",
      "hour_7_15 | 4263.09864068 | 0.0\n",
      "hour_7_16 | 5597.41051274 | 0.0\n",
      "hour_7_17 | 6195.96766495 | 0.0\n",
      "hour_7_18 | 3729.82335463 | 0.0\n",
      "hour_7_19 | 1864.23227347 | 0.0\n",
      "hour_7_20 | 447.02864789 | 4.6662729653e-99\n",
      "hour_7_21 | 15.5360345125 | 8.09903337716e-05\n",
      "hour_7_22 | 278.304258148 | 2.05150463331e-62\n",
      "hour_7_23 | 563.964639251 | 2.22192409609e-124\n",
      "hour_8_9 | 48.1728623581 | 3.92210960381e-12\n",
      "hour_8_10 | 41.7570517624 | 1.0375601872e-10\n",
      "hour_8_11 | 2.36378732571 | 0.124183120103\n",
      "hour_8_12 | 21.225457006 | 4.08736887606e-06\n",
      "hour_8_13 | 52.4623074408 | 4.4129064672e-13\n",
      "hour_8_14 | 504.54255764 | 1.62364343634e-111\n",
      "hour_8_15 | 1279.13220851 | 8.38683092763e-279\n",
      "hour_8_16 | 2023.58306343 | 0.0\n",
      "hour_8_17 | 2257.60023811 | 0.0\n",
      "hour_8_18 | 754.210911598 | 1.21311348206e-165\n",
      "hour_8_19 | 64.5401836685 | 9.52418609919e-16\n",
      "hour_8_20 | 236.136074436 | 3.00654984203e-53\n",
      "hour_8_21 | 1754.71335073 | 0.0\n",
      "hour_8_22 | 3071.06364736 | 0.0\n",
      "hour_8_23 | 3926.84852244 | 0.0\n",
      "hour_9_10 | 0.15918334805 | 0.689910219003\n",
      "hour_9_11 | 72.9324993636 | 1.35716256433e-17\n",
      "hour_9_12 | 138.750266763 | 5.20286806855e-32\n",
      "hour_9_13 | 209.969378156 | 1.53129818588e-47\n",
      "hour_9_14 | 924.244497629 | 2.76910456509e-202\n",
      "hour_9_15 | 1965.48096852 | 0.0\n",
      "hour_9_16 | 2915.17914712 | 0.0\n",
      "hour_9_17 | 3246.00872098 | 0.0\n",
      "hour_9_18 | 1352.2114669 | 8.94535015113e-295\n",
      "hour_9_19 | 285.662820945 | 4.99001230752e-64\n",
      "hour_9_20 | 51.4878718224 | 7.23667675451e-13\n",
      "hour_9_21 | 1191.85932941 | 3.90563816562e-260\n",
      "hour_9_22 | 2350.51290678 | 0.0\n",
      "hour_9_23 | 3135.88015782 | 0.0\n",
      "hour_10_11 | 64.8026713117 | 8.35765841172e-16\n",
      "hour_10_12 | 126.606575594 | 2.3466343809e-29\n",
      "hour_10_13 | 194.295118665 | 3.98971180814e-44\n",
      "hour_10_14 | 878.892023185 | 1.8044180002e-192\n",
      "hour_10_15 | 1885.29908034 | 0.0\n",
      "hour_10_16 | 2805.85772329 | 0.0\n",
      "hour_10_17 | 3122.63738698 | 0.0\n",
      "hour_10_18 | 1282.44235116 | 1.05003747917e-279\n",
      "hour_10_19 | 262.001195341 | 7.03501639211e-59\n",
      "hour_10_20 | 57.0946023885 | 4.17718574814e-14\n",
      "hour_10_21 | 1188.42650002 | 2.31262229421e-259\n",
      "hour_10_22 | 2321.73529477 | 0.0\n",
      "hour_10_23 | 3091.44233718 | 0.0\n",
      "hour_11_12 | 9.40093381419 | 0.00216925560467\n",
      "hour_11_13 | 32.6853400545 | 1.08620958228e-08\n",
      "hour_11_14 | 438.870131422 | 2.82202155168e-97\n",
      "hour_11_15 | 1174.48863347 | 2.98500007694e-256\n",
      "hour_11_16 | 1892.63275847 | 0.0\n",
      "hour_11_17 | 2111.44449575 | 0.0\n",
      "hour_11_18 | 658.463470349 | 6.52957883455e-145\n",
      "hour_11_19 | 37.734307407 | 8.12655114124e-10\n",
      "hour_11_20 | 299.614730716 | 4.65868459418e-67\n",
      "hour_11_21 | 1920.88303758 | 0.0\n",
      "hour_11_22 | 3286.21323894 | 0.0\n",
      "hour_11_23 | 4171.59178822 | 0.0\n",
      "hour_12_13 | 7.19613229309 | 0.00730713194261\n",
      "hour_12_14 | 323.888892286 | 2.54669559797e-72\n",
      "hour_12_15 | 984.558350872 | 2.57230301569e-215\n",
      "hour_12_16 | 1652.56252249 | 0.0\n",
      "hour_12_17 | 1845.63096225 | 0.0\n",
      "hour_12_18 | 494.169487803 | 2.62004735839e-109\n",
      "hour_12_19 | 5.88414848102 | 0.0152789281305\n",
      "hour_12_20 | 453.867935767 | 1.47087773152e-100\n",
      "hour_12_21 | 2313.16170647 | 0.0\n",
      "hour_12_22 | 3809.50099343 | 0.0\n",
      "hour_12_23 | 4767.85555744 | 0.0\n",
      "hour_13_14 | 232.103825262 | 2.31275573669e-52\n",
      "hour_13_15 | 814.187319941 | 1.57189767054e-178\n",
      "hour_13_16 | 1425.14555622 | 2.93689016198e-310\n",
      "hour_13_17 | 1593.41239913 | 0.0\n",
      "hour_13_18 | 361.389652989 | 1.73468833265e-80\n",
      "hour_13_19 | 0.713466384668 | 0.398296770978\n",
      "hour_13_20 | 604.071596376 | 4.03846009545e-133\n",
      "hour_13_21 | 2635.11503474 | 0.0\n",
      "hour_13_22 | 4215.99753228 | 0.0\n",
      "hour_13_23 | 5219.33280605 | 0.0\n",
      "hour_14_15 | 174.369837941 | 8.68230505531e-40\n",
      "hour_14_16 | 499.461723922 | 1.91273156896e-110\n",
      "hour_14_17 | 566.350996208 | 5.87497568949e-125\n",
      "hour_14_18 | 1.88381774751 | 0.169902751818\n",
      "hour_14_19 | 378.402415396 | 3.45820350057e-84\n",
      "hour_14_20 | 1942.9012644 | 0.0\n",
      "hour_14_21 | 5150.40154073 | 0.0\n",
      "hour_14_22 | 7370.51189543 | 0.0\n",
      "hour_14_23 | 8707.07860851 | 0.0\n",
      "hour_15_16 | 83.5171658828 | 6.39085858675e-20\n",
      "hour_15_17 | 99.4054407481 | 2.08992838406e-23\n",
      "hour_15_18 | 193.588812852 | 5.53456405323e-44\n",
      "hour_15_19 | 1272.53804058 | 1.13444585059e-277\n",
      "hour_15_20 | 3741.65676195 | 0.0\n",
      "hour_15_21 | 8051.30652573 | 0.0\n",
      "hour_15_22 | 10868.1101193 | 0.0\n",
      "hour_15_23 | 12517.5313506 | 0.0\n",
      "hour_16_17 | 0.16435109312 | 0.685182278873\n",
      "hour_16_18 | 599.848359737 | 3.01320653429e-132\n",
      "hour_16_19 | 2200.3148079 | 0.0\n",
      "hour_16_20 | 5331.99451259 | 0.0\n",
      "hour_16_21 | 10445.0378019 | 0.0\n"
     ]
    },
    {
     "name": "stdout",
     "output_type": "stream",
     "text": [
      "hour_16_22 | 13696.8525989 | 0.0\n",
      "hour_16_23 | 15572.1867979 | 0.0\n",
      "hour_17_18 | 682.079237706 | 4.42739833463e-150\n",
      "hour_17_19 | 2462.7503937 | 0.0\n",
      "hour_17_20 | 5930.55796844 | 0.0\n",
      "hour_17_21 | 11584.822504 | 0.0\n",
      "hour_17_22 | 15180.0597323 | 0.0\n",
      "hour_17_23 | 17246.5481282 | 0.0\n",
      "hour_18_19 | 590.381274652 | 3.25347886004e-130\n",
      "hour_18_20 | 2812.88247136 | 0.0\n",
      "hour_18_21 | 7303.96100403 | 0.0\n",
      "hour_18_22 | 10406.3042428 | 0.0\n",
      "hour_18_23 | 12245.7609696 | 0.0\n",
      "hour_19_20 | 848.29969781 | 4.46492086807e-186\n",
      "hour_19_21 | 3860.29192546 | 0.0\n",
      "hour_19_22 | 6238.95214609 | 0.0\n",
      "hour_19_23 | 7730.60796743 | 0.0\n",
      "hour_20_21 | 1098.4868942 | 3.85937673345e-240\n",
      "hour_20_22 | 2507.45756901 | 0.0\n",
      "hour_20_23 | 3508.26788776 | 0.0\n",
      "hour_21_22 | 287.365970739 | 2.10514671516e-64\n",
      "hour_21_23 | 693.511775517 | 1.58995016779e-152\n",
      "hour_22_23 | 90.468520934 | 1.90353069609e-21\n"
     ]
    }
   ],
   "source": [
    "print('pairs | F-score | p-value')\n",
    "for i in range(len(hours)):\n",
    "    for j in range(i+1,len(hours)):\n",
    "        hours_ = \"hour_\"+str(i)+\"_\"+str(j)\n",
    "        #getting F statistics and p value\n",
    "        F, p = stats.f_oneway(hours[i], hours[j])\n",
    "        print(hours_+' | '+str(F)+' | '+str(p))"
   ]
  },
  {
   "cell_type": "markdown",
   "metadata": {},
   "source": [
    "It is clear that the average trip speeds are materially the not same in all hours of September. But for some hours pairs, like hour 8 and 11, 9 and 10, 13 and 19,etc., the average speeds seem to come from the same distribution for those hour pairs. \n",
    "\n",
    "Accodrding to the boxplot, I may hypothesize that:\n",
    "    The average trip speeds are materially the same in all hours of September, but some hours pairs share the same average speeds.\n",
    "    "
   ]
  },
  {
   "cell_type": "markdown",
   "metadata": {},
   "source": [
    "## Failed Attempts:\n",
    "    1. I attempted to draw a geographic plot of pickup and dropoff points in the new york area, but failed due to some technical difficulty in installing the basemap library. I successfully installed the gmplot and imported, but the lib seemed to fail to load any of the city maps.\n",
    "    2. I attempted to calculate the distance using the geodesic function, but it takes too long to compute the distance. "
   ]
  },
  {
   "cell_type": "markdown",
   "metadata": {},
   "source": [
    "## Future Improvement:\n",
    "    1. Fix the library installation problem, and plot the distribution of trips in the NYC map. (Put blue as pickup and red as dropoff in the map, etc)\n",
    "    2. Try other combinations of features to predict the tip percentage. For example, I may derive borough features from the latitude and longitude features instead of only using whether airports as a feature. Dive more into how a tip is caused, trying predicting tip amount.\n",
    "    3. Explore the relationship between distance and other features to help taxi drivers earn more."
   ]
  },
  {
   "cell_type": "markdown",
   "metadata": {},
   "source": [
    "## Reference: \n",
    "    [1]feature description: https://www1.nyc.gov/assets/tlc/downloads/pdf/data_dictionary_trip_records_green.pdf \n",
    "    [2]taxi fare: https://www1.nyc.gov/site/tlc/passengers/taxi-fare.page\n",
    "    [3]convert string to datetime: https://stackabuse.com/converting-strings-to-datetime-in-python/\n",
    "    [4]distance calculation: https://stackoverflow.com/questions/34621118/distance-calculation-in-geopy\n",
    "    [5]speed limits: https://en.wikipedia.org/wiki/Speed_limits_in_the_United_States\n",
    "    [6]month of year: https://stackoverflow.com/questions/2600775/how-to-get-week-number-in-python\n",
    "    [7]feature importance: https://scikit-learn.org/stable/auto_examples/ensemble/plot_forest_importances.html\n",
    "       "
   ]
  }
 ],
 "metadata": {
  "kernelspec": {
   "display_name": "Python 3",
   "language": "python",
   "name": "python3"
  },
  "language_info": {
   "codemirror_mode": {
    "name": "ipython",
    "version": 3
   },
   "file_extension": ".py",
   "mimetype": "text/x-python",
   "name": "python",
   "nbconvert_exporter": "python",
   "pygments_lexer": "ipython3",
   "version": "3.6.3"
  }
 },
 "nbformat": 4,
 "nbformat_minor": 2
}
